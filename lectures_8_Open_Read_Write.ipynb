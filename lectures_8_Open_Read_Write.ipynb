{
 "cells": [
  {
   "cell_type": "markdown",
   "metadata": {},
   "source": [
    "## Открытие и чтение файла, запись в файл"
   ]
  },
  {
   "cell_type": "markdown",
   "metadata": {},
   "source": [
    "### 5. Автоматизация рутинных задач с помощью Python.  Практическое руководство для начинающих.2017.pdf\n",
    "### Чтение и запись файлов.  Стр. 218"
   ]
  },
  {
   "cell_type": "markdown",
   "metadata": {},
   "source": [
    "#### Текущий рабочий каталог. Стр. 220"
   ]
  },
  {
   "cell_type": "code",
   "execution_count": null,
   "metadata": {},
   "outputs": [],
   "source": [
    "#     Текущий рабочий каталог. Стр. 220\n",
    "\n",
    "import os\n",
    "\n",
    "# print(os.getcwd())           # Абсолютный путь (до текущей папки).\n",
    "# os.chdir('.\\\\temp')          # Переход в другую папку.\n",
    "# print(os.getcwd())\n",
    "# os.chdir('..\\\\')\n",
    "print(os.getcwd())\n",
    "\n",
    "#                              # Создание новой папки.\n",
    "os.makedirs('E:\\\\PyFiles\\\\Read-and-Write-8\\\\working_test')\n"
   ]
  },
  {
   "cell_type": "markdown",
   "metadata": {},
   "source": [
    "###     Модуль os.path"
   ]
  },
  {
   "cell_type": "markdown",
   "metadata": {},
   "source": [
    "#### Обработка абсолютных и относительных путей. Стр. 223"
   ]
  },
  {
   "cell_type": "code",
   "execution_count": null,
   "metadata": {},
   "outputs": [],
   "source": [
    "\n",
    "import os\n",
    "\n",
    "pt = 'E:\\\\PyFiles\\\\Read-and-Write-8\\\\temp\\\\1.txt'\n",
    "\n",
    "print(os.path.abspath('.\\\\temp'))  # Абсолютный путь до указанной папки.\n",
    "print(os.path.isabs('.\\\\temp'))    # Проверяет путь на абсолютный.\n",
    "\n",
    "print(os.path.dirname(pt))         # Путь до конечной папки или файла.\n",
    "print(os.path.basename(pt))        # Название конечной папки или файла.\n",
    "print(os.path.split(pt))           # Путь и базовое имя одной командой (возвращяет кортеж).\n",
    "print(pt.split(os.path.sep))       # os.path.sep - разделитель имён папок, который соответствует установленной ОС.\n",
    "file_path = os.path.join(base, dir_name, file_name)    # Собирает полный путь из отдельных частей\n"
   ]
  },
  {
   "cell_type": "markdown",
   "metadata": {},
   "source": [
    "#### Определение размеров файлов и содержимого папок. Стр. 225"
   ]
  },
  {
   "cell_type": "code",
   "execution_count": 7,
   "metadata": {},
   "outputs": [
    {
     "name": "stdout",
     "output_type": "stream",
     "text": [
      "6326\n",
      "1.txt\n",
      "2.txt\n",
      "3.txt\n",
      "out_f.txt\n",
      "-1  -  .git\n",
      "-1  -  .gitignore\n",
      "-1  -  .ipynb_checkpoints\n",
      " 7  -  input_8.txt\n",
      "Нашёл: input_8.txt\n",
      "-1  -  lectures_8_Open_Read_Write.ipynb\n",
      "-1  -  Read-and-Write-8.2.py\n",
      "-1  -  Read-and-Write-8.py\n",
      "-1  -  task_1.08_Read_and_Write.ipynb\n",
      "-1  -  temp\n"
     ]
    }
   ],
   "source": [
    "\n",
    "import os\n",
    "\n",
    "pt1 = 'E:\\\\PyFiles\\\\Read-and-Write-8\\\\lectures_8_Open_Read_Write.ipynb'\n",
    "pt2 = 'E:\\\\PyFiles\\\\Read-and-Write-8\\\\temp\\\\1.txt'\n",
    "print(os.path.getsize(pt1))          # Размер файла в байтах.\n",
    "for entry in os.listdir('.\\\\temp'):  # Список с именами всех папок и файлов.\n",
    "    print(entry)\n",
    "for entry in os.listdir():\n",
    "    print(f'{entry.rfind(\".txt\"):2}  -  {entry}')\n",
    "    if entry.rfind('.txt') >= 0:\n",
    "        print(f'Нашёл: {entry}')\n"
   ]
  },
  {
   "cell_type": "markdown",
   "metadata": {},
   "source": [
    "#### Проверка существования пути. Стр. 226"
   ]
  },
  {
   "cell_type": "code",
   "execution_count": 11,
   "metadata": {},
   "outputs": [
    {
     "name": "stdout",
     "output_type": "stream",
     "text": [
      "True\n",
      "True\n",
      "True\n",
      "False\n"
     ]
    }
   ],
   "source": [
    "\n",
    "import os\n",
    "\n",
    "pt1 = 'E:\\\\PyFiles\\\\Read-and-Write-8\\\\lectures_8_Open_Read_Write.ipynb'\n",
    "pt2 = 'E:\\\\PyFiles\\\\Read-and-Write-8\\\\temp'\n",
    "print(os.path.exists(pt1))         # Проверяет на существование папки или файла.\n",
    "print(os.path.isdir(pt2))          # Проверяет, что путь указывает на папку.\n",
    "print(os.path.isfile(pt1))         # Проверяет, что путь указывает на файл.\n",
    "print(os.path.exists('I:\\\\'))      # Проверяет, подключена флешка или нет?\n"
   ]
  },
  {
   "cell_type": "markdown",
   "metadata": {},
   "source": [
    "#### Запись в файл, в режиме \"записи\" и режиме \"добавления\"."
   ]
  },
  {
   "cell_type": "code",
   "execution_count": 30,
   "metadata": {},
   "outputs": [
    {
     "name": "stdout",
     "output_type": "stream",
     "text": [
      "[' Пример из книги,\\n', ' запись в файл\\n', ' в режиме \"записи\"\\n', ' и режиме \"добавления\".']\n"
     ]
    }
   ],
   "source": [
    "#     Использование функции print().\n",
    "\n",
    "import os\n",
    "\n",
    "t_list = ['Пример из книги,',\n",
    "          'запись в файл',\n",
    "          'в режиме \"записи\"',\n",
    "          'и режиме \"добавления\".']\n",
    "crlf = ''\n",
    "with open('out_file.txt', 'wt', encoding='utf8') as out_file:\n",
    "    for i in range(2):\n",
    "        print(crlf, t_list[i], file=out_file, end='')\n",
    "        if crlf == '': crlf = '\\n'    # Устанавливается после самого первого print() в коде !!!\n",
    "\n",
    "with open('out_file.txt', 'at', encoding='utf8') as out_file:\n",
    "    print(crlf, t_list[2], file=out_file, end='')\n",
    "    print(crlf, t_list[3], file=out_file, end='')\n",
    "\n",
    "with open('out_file.txt', 'rt', encoding='utf8') as in_file:\n",
    "    # pr_list = []\n",
    "    pr_list = in_file.readlines()\n",
    "# for entry in range(len(pr_list)):\n",
    "#     print(pr_list[entry])\n",
    "print(pr_list)\n"
   ]
  },
  {
   "cell_type": "code",
   "execution_count": 29,
   "metadata": {},
   "outputs": [
    {
     "name": "stdout",
     "output_type": "stream",
     "text": [
      "['Пример из книги,\\n', 'запись в файл\\n', 'в режиме \"записи\"\\n', 'и режиме \"добавления\".']\n"
     ]
    }
   ],
   "source": [
    "#     Использование метода .write(). Важно: принимает только один аргумент !!!\n",
    "#  quote = crlf + t_list[i]  -  Если необходимо вывести несколько объектов, то\n",
    "#      перед командой объедините их в одну запись, и только потом .write(quote).\n",
    "\n",
    "import os\n",
    "\n",
    "t_list = ['Пример из книги,',\n",
    "          'запись в файл',\n",
    "          'в режиме \"записи\"',\n",
    "          'и режиме \"добавления\".']\n",
    "crlf = ''\n",
    "with open('out_file.txt', 'wt', encoding='utf8') as out_file:\n",
    "    for i in range(2):\n",
    "        quote = crlf + t_list[i]      # Если необходимо вывести несколько объектов,\n",
    "        out_file.write(quote)\n",
    "        if crlf == '': crlf = '\\n'    # Устанавливается после самого первого .write() в коде\n",
    "\n",
    "with open('out_file.txt', 'at', encoding='utf8') as out_file:\n",
    "    quote = crlf + t_list[2]\n",
    "    out_file.write(quote)\n",
    "    quote = crlf + t_list[3]\n",
    "    out_file.write(quote)\n",
    "\n",
    "with open('out_file.txt', 'rt', encoding='utf8') as in_file:\n",
    "    # pr_list = []\n",
    "    pr_list = in_file.readlines()\n",
    "# for entry in range(len(pr_list)):\n",
    "#     print(pr_list[entry])\n",
    "print(pr_list)\n"
   ]
  },
  {
   "cell_type": "code",
   "execution_count": 1,
   "metadata": {},
   "outputs": [
    {
     "name": "stdout",
     "output_type": "stream",
     "text": [
      "BASE: 'E:\\PyFiles\\Read-and-Write'   DIR_NAME: 'temp'   FILE_NAME: 'data_3.txt'\n",
      "'E:\\PyFiles\\Read-and-Write\\temp\\data_3.txt'\n"
     ]
    }
   ],
   "source": [
    "# Занятие 8. Открытие и чтение файла, запись в файл.                 Лекция от 10.02.22\n",
    "\n",
    "import os\n",
    "\n",
    "BASE = os.getcwd()    # Определяет путь до текущей папки\n",
    "DIR_NAME = 'temp'\n",
    "FILE_NAME = 'data_3.txt'\n",
    "file_path = os.path.join(BASE, DIR_NAME, FILE_NAME)    # Собирает полный путь из отдельных частей\n",
    "print(f\"BASE: '{BASE}'   DIR_NAME: '{DIR_NAME}'   FILE_NAME: '{FILE_NAME}'\")\n",
    "print(f\"'{file_path}'\")\n"
   ]
  },
  {
   "cell_type": "raw",
   "metadata": {},
   "source": [
    "Старый вывод:\n",
    "\n",
    "BASE: 'E:\\PyFiles\\Чтение и запись в файл'   DIR_NAME: 'temp'   FILE_NAME: 'data_3.txt'\n",
    "'E:\\PyFiles\\Чтение и запись в файл\\temp\\data_3.txt'"
   ]
  },
  {
   "cell_type": "code",
   "execution_count": null,
   "metadata": {},
   "outputs": [],
   "source": [
    "#\n",
    "#\n",
    "# -*- coding: utf-8 -*-\n",
    "#\t\tСохраняем файл в кодировке UTF-8 без BOM ( Byte Order Mark, метка порядка байтов )\n",
    "#\n",
    "print()\n",
    "\n",
    "\n",
    "input('\\n  -- Пауза --  ')\n",
    "\n",
    "\n",
    "print('\\n  -- Конец --  ')  #                 - Для блокнота\n",
    "#input('\\n  -- Конец --  ')\t#\tТипа  \"Пауза\" - Для среды\n"
   ]
  }
 ],
 "metadata": {
  "kernelspec": {
   "display_name": "Python 3",
   "language": "python",
   "name": "python3"
  },
  "language_info": {
   "codemirror_mode": {
    "name": "ipython",
    "version": 3
   },
   "file_extension": ".py",
   "mimetype": "text/x-python",
   "name": "python",
   "nbconvert_exporter": "python",
   "pygments_lexer": "ipython3",
   "version": "3.8.5"
  }
 },
 "nbformat": 4,
 "nbformat_minor": 4
}
