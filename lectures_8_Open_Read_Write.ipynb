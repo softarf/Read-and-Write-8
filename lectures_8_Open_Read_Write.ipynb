{
 "cells": [
  {
   "cell_type": "markdown",
   "metadata": {},
   "source": [
    "### Открытие и чтение файла, запись в файл"
   ]
  },
  {
   "cell_type": "code",
   "execution_count": 1,
   "metadata": {},
   "outputs": [
    {
     "name": "stdout",
     "output_type": "stream",
     "text": [
      "BASE: 'E:\\PyFiles\\Read-and-Write'   DIR_NAME: 'temp'   FILE_NAME: 'data_3.txt'\n",
      "'E:\\PyFiles\\Read-and-Write\\temp\\data_3.txt'\n"
     ]
    }
   ],
   "source": [
    "\n",
    "import os\n",
    "\n",
    "BASE = os.getcwd()    # Определяет путь до текущей папки\n",
    "DIR_NAME = 'temp'\n",
    "FILE_NAME = 'data_3.txt'\n",
    "file_path = os.path.join(BASE, DIR_NAME, FILE_NAME)    # Собирает полный путь из отдельных частей\n",
    "print(f\"BASE: '{BASE}'   DIR_NAME: '{DIR_NAME}'   FILE_NAME: '{FILE_NAME}'\")\n",
    "print(f\"'{file_path}'\")\n"
   ]
  },
  {
   "cell_type": "raw",
   "metadata": {},
   "source": [
    "Старый вывод:\n",
    "\n",
    "BASE: 'E:\\PyFiles\\Чтение и запись в файл'   DIR_NAME: 'temp'   FILE_NAME: 'data_3.txt'\n",
    "'E:\\PyFiles\\Чтение и запись в файл\\temp\\data_3.txt'"
   ]
  },
  {
   "cell_type": "code",
   "execution_count": null,
   "metadata": {},
   "outputs": [],
   "source": [
    "#\n",
    "#\n",
    "# -*- coding: utf-8 -*-\n",
    "#\t\tСохраняем файл в кодировке UTF-8 без BOM ( Byte Order Mark, метка порядка байтов )\n",
    "#\n",
    "print()\n",
    "\n",
    "\n",
    "input('\\n  -- Пауза --  ')\n",
    "\n",
    "\n",
    "print('\\n  -- Конец --  ')  #                 - Для блокнота\n",
    "#input('\\n  -- Конец --  ')\t#\tТипа  \"Пауза\" - Для среды\n"
   ]
  }
 ],
 "metadata": {
  "kernelspec": {
   "display_name": "Python 3",
   "language": "python",
   "name": "python3"
  },
  "language_info": {
   "codemirror_mode": {
    "name": "ipython",
    "version": 3
   },
   "file_extension": ".py",
   "mimetype": "text/x-python",
   "name": "python",
   "nbconvert_exporter": "python",
   "pygments_lexer": "ipython3",
   "version": "3.8.5"
  }
 },
 "nbformat": 4,
 "nbformat_minor": 4
}
